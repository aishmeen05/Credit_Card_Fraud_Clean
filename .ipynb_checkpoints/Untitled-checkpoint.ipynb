{
 "cells": [
  {
   "cell_type": "code",
   "execution_count": null,
   "id": "e582c81b-60a8-4018-839e-89d1f54d199b",
   "metadata": {},
   "outputs": [],
   "source": []
  }
 ],
 "metadata": {
  "kernelspec": {
   "display_name": "",
   "name": ""
  },
  "language_info": {
   "name": ""
  }
 },
 "nbformat": 4,
 "nbformat_minor": 5
}
